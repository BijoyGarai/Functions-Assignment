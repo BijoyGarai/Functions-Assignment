{
  "nbformat": 4,
  "nbformat_minor": 0,
  "metadata": {
    "colab": {
      "provenance": []
    },
    "kernelspec": {
      "name": "python3",
      "display_name": "Python 3"
    },
    "language_info": {
      "name": "python"
    }
  },
  "cells": [
    {
      "cell_type": "code",
      "execution_count": null,
      "metadata": {
        "id": "07HCjq5Dtqvg"
      },
      "outputs": [],
      "source": [
        "# Theory Questions"
      ]
    },
    {
      "cell_type": "code",
      "source": [
        "# 1) What is the difference between a function and a method in Python?\n",
        "# Answer:\n",
        "# A function is a block of code that performs a specific task.\n",
        "# A method is a function that is associated with an object.\n",
        "# The key difference is that methods are called on an object, while functions are called independently.\n"
      ],
      "metadata": {
        "id": "NgyZ5UXYu0t9"
      },
      "execution_count": null,
      "outputs": []
    },
    {
      "cell_type": "code",
      "source": [
        "# 2) Explain the concept of function arguments and parameters in Python.\n",
        "\n",
        "# In Python, function arguments and parameters are closely related.\n",
        "\n",
        "# Parameters:\n",
        "#   - These are the placeholders defined within the function's definition.\n",
        "#   - They act as variables that will hold the values passed when the function is called.\n",
        "\n",
        "# Arguments:\n",
        "#   - These are the actual values passed to the function when it is invoked.\n",
        "#   - They correspond to the parameters defined in the function's definition.\n",
        "\n",
        "# Example:\n",
        "def greet(name):  # 'name' is a parameter\n",
        "  print(f\"Hello, {name}!\")\n",
        "\n",
        "greet(\"Bijoy\")  # \"Bijoy\" is an argument\n"
      ],
      "metadata": {
        "colab": {
          "base_uri": "https://localhost:8080/"
        },
        "id": "ubIz7VPKvSxK",
        "outputId": "374b0c55-c99c-4012-b4a4-dbf00fa53e01"
      },
      "execution_count": null,
      "outputs": [
        {
          "output_type": "stream",
          "name": "stdout",
          "text": [
            "Hello, Bijoy!\n"
          ]
        }
      ]
    },
    {
      "cell_type": "code",
      "source": [
        "# 3) What are the different ways to define and call a function in Python?\n",
        "\n",
        "# a. Defining a function with no arguments\n",
        "def greet():\n",
        "  print(\"Hello!\")\n",
        "\n",
        "# Calling the function\n",
        "greet()\n",
        "\n",
        "\n",
        "# b. Defining a function with positional arguments\n",
        "def add_numbers(x, y):\n",
        "  sum = x + y\n",
        "  print(f\"The sum is: {sum}\")\n",
        "\n",
        "# Calling the function with positional arguments\n",
        "add_numbers(5, 3)\n",
        "\n",
        "\n",
        "# c. Defining a function with keyword arguments\n",
        "def greet_person(name, age):\n",
        "  print(f\"Hello, {name}! You are {age} years old.\")\n",
        "\n",
        "# Calling the function with keyword arguments\n",
        "greet_person(name=\"Bijoy\", age=30)\n",
        "\n",
        "\n",
        "# d. Defining a function with default arguments\n",
        "def greet_with_default(name=\"World\"):\n",
        "  print(f\"Hello, {name}!\")\n",
        "\n",
        "# Calling the function with and without arguments\n",
        "greet_with_default()  # Output: Hello, World!\n",
        "greet_with_default(name=\"Ram\")  # Output: Hello, Bob!\n",
        "\n",
        "\n",
        "# e. Defining a function with variable-length arguments\n",
        "def print_numbers(*args):\n",
        "  for number in args:\n",
        "    print(number)\n",
        "\n",
        "# Calling the function with multiple arguments\n",
        "print_numbers(1, 2, 3, 4, 5)\n",
        "\n",
        "\n",
        "# f. Defining a function with variable-length keyword arguments\n",
        "def print_details(**kwargs):\n",
        "  for key, value in kwargs.items():\n",
        "    print(f\"{key}: {value}\")\n",
        "\n",
        "# Calling the function with keyword arguments\n",
        "print_details(name=\"Bijoy\", age=30, city=\"Barddhaman\")\n"
      ],
      "metadata": {
        "colab": {
          "base_uri": "https://localhost:8080/"
        },
        "id": "3hrM795bvmid",
        "outputId": "2719c73a-7041-403d-e4b3-0d90e344e6db"
      },
      "execution_count": null,
      "outputs": [
        {
          "output_type": "stream",
          "name": "stdout",
          "text": [
            "Hello!\n",
            "The sum is: 8\n",
            "Hello, Bijoy! You are 30 years old.\n",
            "Hello, World!\n",
            "Hello, Ram!\n",
            "1\n",
            "2\n",
            "3\n",
            "4\n",
            "5\n",
            "name: Bijoy\n",
            "age: 30\n",
            "city: Barddhaman\n"
          ]
        }
      ]
    },
    {
      "cell_type": "code",
      "source": [
        "# 4)  What is the purpose of the `return` statement in a Python function?\n",
        "\n",
        "# The `return` statement in a Python function serves two primary purposes:\n",
        "\n",
        "# a. To provide a value:\n",
        "#    - It allows the function to send a value back to the caller.\n",
        "#    - This value can be of any data type (integer, string, list, etc.).\n",
        "#    - This is how functions can be used to compute results or generate data that can be used elsewhere in your code.\n",
        "# Example:\n",
        "def calculate_sum(a, b):\n",
        "  \"\"\"This function calculates the sum of two numbers.\"\"\"\n",
        "  total = a + b\n",
        "  return total\n",
        "\n",
        "result = calculate_sum(5, 3)\n",
        "print(f\"The sum is: {result}\")  # Output: The sum is: 8\n",
        "\n",
        "# b. To exit the function:\n",
        "#    - Once the `return` statement is encountered, the function immediately terminates.\n",
        "#    - Any code after the `return` statement will not be executed.\n",
        "# Example:\n",
        "def check_even(number):\n",
        "  \"\"\"This function checks if a number is even.\"\"\"\n",
        "  if number % 2 == 0:\n",
        "    return True\n",
        "  else:\n",
        "    return False\n",
        "\n",
        "is_even = check_even(4)\n",
        "print(f\"Is the number even? {is_even}\")  # Output: Is the number even? True\n"
      ],
      "metadata": {
        "colab": {
          "base_uri": "https://localhost:8080/"
        },
        "id": "iTLlGA5zwFC_",
        "outputId": "cc6082ba-128b-4f06-f371-564c821479e7"
      },
      "execution_count": null,
      "outputs": [
        {
          "output_type": "stream",
          "name": "stdout",
          "text": [
            "The sum is: 8\n",
            "Is the number even? True\n"
          ]
        }
      ]
    },
    {
      "cell_type": "code",
      "source": [
        "# 5) What are iterators in Python and how do they differ from iterables?\n",
        "\n",
        "# Iterators in Python are objects that allow you to traverse through a sequence of values one by one.\n",
        "# They provide a way to access elements of a container without needing to know the underlying structure.\n",
        "# Iterables are objects that can be iterated over, meaning you can use them in a loop to access their elements.\n",
        "# Examples of iterables include lists, tuples, strings, and dictionaries.\n",
        "\n",
        "# To get an iterator from an iterable, you use the iter() function.\n",
        "my_list = [1, 2, 3]\n",
        "my_iterator = iter(my_list)\n",
        "\n",
        "# To get the next element in the iterator, you use the next() function.\n",
        "print(next(my_iterator))  # Output: 1\n",
        "print(next(my_iterator))  # Output: 2\n",
        "print(next(my_iterator))  # Output: 3\n",
        "\n",
        "# Key Differences:\n",
        "# - Iterables are objects that can be iterated over, but they don't have an internal state that keeps track of the current position.\n",
        "# - Iterators are objects that have an internal state that keeps track of the current position during iteration.\n",
        "# - You can get an iterator from an iterable using the iter() function.\n",
        "# - Iterators are used to traverse through the elements of an iterable one by one.\n"
      ],
      "metadata": {
        "colab": {
          "base_uri": "https://localhost:8080/"
        },
        "id": "ZNZKb1mkwsPw",
        "outputId": "4736ad76-4cfb-463e-df03-ed7a4d819ed9"
      },
      "execution_count": null,
      "outputs": [
        {
          "output_type": "stream",
          "name": "stdout",
          "text": [
            "1\n",
            "2\n",
            "3\n"
          ]
        }
      ]
    },
    {
      "cell_type": "code",
      "source": [
        "# 6) Explain the concept of generators in Python and how they are defined.\n",
        "\n",
        "# Generators in Python are a special type of function that return an iterator.\n",
        "# They use the `yield` keyword to produce a sequence of values one at a time,\n",
        "# instead of returning a complete list or other data structure.\n",
        "\n",
        "# This allows for efficient memory usage, especially when dealing with large datasets,\n",
        "# as generators produce values on demand, rather than storing them all in memory at once.\n",
        "\n",
        "# Defining a generator:\n",
        "def my_generator(n):\n",
        "  \"\"\"This is a simple generator function.\"\"\"\n",
        "  for i in range(n):\n",
        "    yield i\n",
        "\n",
        "# Using the generator:\n",
        "for value in my_generator(5):\n",
        "  print(value)\n"
      ],
      "metadata": {
        "colab": {
          "base_uri": "https://localhost:8080/"
        },
        "id": "iKpTshmyxB5W",
        "outputId": "e40f4938-2a35-48cd-f394-e64b64e7572b"
      },
      "execution_count": null,
      "outputs": [
        {
          "output_type": "stream",
          "name": "stdout",
          "text": [
            "0\n",
            "1\n",
            "2\n",
            "3\n",
            "4\n"
          ]
        }
      ]
    },
    {
      "cell_type": "code",
      "source": [
        "# 7) What are the advantages of using generators over regular functions?\n",
        "\n",
        "# Advantages of using generators over regular functions:\n",
        "\n",
        "# a. Memory efficiency:\n",
        "#    - Generators produce values on demand, so they don't need to store the entire sequence in memory.\n",
        "#    - This is especially beneficial when dealing with large datasets or infinite sequences.\n",
        "\n",
        "# b. Improved performance:\n",
        "#    - Generators can be more efficient than regular functions in terms of execution time,\n",
        "#      as they don't need to create and return a complete data structure.\n",
        "\n",
        "# c. Lazy evaluation:\n",
        "#    - Generators allow for lazy evaluation, meaning values are generated only when needed.\n",
        "#    - This can be useful for tasks where you don't need all the values at once.\n",
        "\n",
        "# d. Simplified code:\n",
        "#    - Generators can often simplify code by making it more concise and readable.\n"
      ],
      "metadata": {
        "id": "Phlu1IPJxSx2"
      },
      "execution_count": null,
      "outputs": []
    },
    {
      "cell_type": "code",
      "source": [
        "# 8) What is a lambda function in Python and when is it typically used?\n",
        "\n",
        "# Lambda functions are small, anonymous functions defined using the lambda keyword.\n",
        "# They are typically used when you need a simple function for a short period of time,\n",
        "# and don't want to define a separate named function.\n",
        "\n",
        "# Syntax:\n",
        "# lambda arguments: expression\n",
        "\n",
        "# Example:\n",
        "square = lambda x: x **2\n",
        "square(5)  # Output: 25\n",
        "\n",
        "# Typical Use Cases:\n",
        "# -  With higher-order functions like map, filter, and reduce.\n",
        "# -  When you need a quick function for a specific task.\n",
        "# -  To create anonymous functions within other expressions.\n"
      ],
      "metadata": {
        "colab": {
          "base_uri": "https://localhost:8080/"
        },
        "id": "0RcwZ3v7yEjO",
        "outputId": "c94a5aba-daef-4c00-f34e-b517fcf8ef87"
      },
      "execution_count": null,
      "outputs": [
        {
          "output_type": "execute_result",
          "data": {
            "text/plain": [
              "25"
            ]
          },
          "metadata": {},
          "execution_count": 13
        }
      ]
    },
    {
      "cell_type": "code",
      "source": [
        "# 9) Explain the purpose and usage of the `map()` function in Python.\n",
        "\n",
        "# The map() function applies a given function to each item in an iterable\n",
        "# (like a list, tuple, or string) and returns an iterator that yields the results.\n",
        "\n",
        "# Syntax:\n",
        "# map(function, iterable)\n",
        "\n",
        "# Example:\n",
        "numbers = [1, 2, 3, 4, 5]\n",
        "\n",
        "# Square each number in the list using map()\n",
        "squared_numbers = map(lambda x: x ** 2, numbers)\n",
        "\n",
        "# Convert the map object to a list\n",
        "result = list(squared_numbers)\n",
        "print(result)  # Output: [1, 4, 9, 16, 25]\n"
      ],
      "metadata": {
        "colab": {
          "base_uri": "https://localhost:8080/"
        },
        "id": "zq9Kx_YKyPr7",
        "outputId": "524c540c-442d-42bf-c7cd-1a25ae56959b"
      },
      "execution_count": null,
      "outputs": [
        {
          "output_type": "stream",
          "name": "stdout",
          "text": [
            "[1, 4, 9, 16, 25]\n"
          ]
        }
      ]
    },
    {
      "cell_type": "code",
      "source": [],
      "metadata": {
        "id": "uV13A3Iqy0r6"
      },
      "execution_count": null,
      "outputs": []
    },
    {
      "cell_type": "code",
      "source": [
        "# 10) What is the difference between `map()`, `reduce()`, and `filter()` functions in Python?\n",
        "\n",
        "# map(): Applies a function to each element of an iterable and returns an iterator.\n",
        "# reduce(): Applies a function cumulatively to the items of an iterable, reducing it to a single value.\n",
        "# filter(): Creates an iterator that yields elements from an iterable that satisfy a given condition.\n",
        "\n",
        "# Example:\n",
        "from functools import reduce\n",
        "\n",
        "numbers = [1, 2, 3, 4, 5]\n",
        "\n",
        "# map():\n",
        "squared_numbers = list(map(lambda x: x ** 2, numbers))\n",
        "print(f\"map(): {squared_numbers}\")  # Output: [1, 4, 9, 16, 25]\n",
        "\n",
        "# reduce():\n",
        "sum_of_numbers = reduce(lambda x, y: x + y, numbers)\n",
        "print(f\"reduce(): {sum_of_numbers}\")  # Output: 15\n",
        "\n",
        "# filter():\n",
        "even_numbers = list(filter(lambda x: x % 2 == 0, numbers))\n",
        "print(f\"filter(): {even_numbers}\")  # Output: [2, 4]\n"
      ],
      "metadata": {
        "colab": {
          "base_uri": "https://localhost:8080/"
        },
        "id": "ORG1dSVbyjvK",
        "outputId": "525a22af-f401-41fa-8e98-c6d69d3a5018"
      },
      "execution_count": null,
      "outputs": [
        {
          "output_type": "stream",
          "name": "stdout",
          "text": [
            "map(): [1, 4, 9, 16, 25]\n",
            "reduce(): 15\n",
            "filter(): [2, 4]\n"
          ]
        }
      ]
    },
    {
      "cell_type": "code",
      "source": [
        "# Practical Questions:"
      ],
      "metadata": {
        "id": "i8veqixRzxp-"
      },
      "execution_count": null,
      "outputs": []
    },
    {
      "cell_type": "code",
      "source": [
        "# 1) Write a Python function that takes a list of numbers as input and returns the sum of all even numbers in the list.\n",
        "numbers = [1, 2, 3, 4, 5, 6, 7, 8, 9, 10]\n",
        "def sum_of_even_numbers(numbers):\n",
        "  \"\"\"\n",
        "  This function takes a list of numbers as input and returns the sum of all even numbers in the list.\n",
        "  \"\"\"\n",
        "  even_numbers = [num for num in numbers if num % 2 == 0]\n",
        "  sum_of_even = sum(even_numbers)\n",
        "  return sum_of_even\n",
        "\n",
        "sum_of_even_numbers(numbers)\n",
        "# output: 30\n"
      ],
      "metadata": {
        "colab": {
          "base_uri": "https://localhost:8080/"
        },
        "id": "eA_8CiIOz7UG",
        "outputId": "cd382e98-0673-4b7b-d0fd-36c662ed2e08"
      },
      "execution_count": null,
      "outputs": [
        {
          "output_type": "execute_result",
          "data": {
            "text/plain": [
              "30"
            ]
          },
          "metadata": {},
          "execution_count": 24
        }
      ]
    },
    {
      "cell_type": "code",
      "source": [
        "# 2) Create a Python function that accepts a string and returns the reverse of that string.\n",
        "s = \"Bijoy\"\n",
        "def reverse_string(s):\n",
        "  \"\"\"\n",
        "  This function accepts a string and returns the reverse of that string.\n",
        "  \"\"\"\n",
        "  return s[::-1]\n",
        "reverse_string(s)  # output: yiojB\n"
      ],
      "metadata": {
        "colab": {
          "base_uri": "https://localhost:8080/",
          "height": 35
        },
        "id": "p72j1FL80O2G",
        "outputId": "b7a8ffb9-379e-4bd2-f0fa-f2fba16f62c3"
      },
      "execution_count": null,
      "outputs": [
        {
          "output_type": "execute_result",
          "data": {
            "text/plain": [
              "'yojiB'"
            ],
            "application/vnd.google.colaboratory.intrinsic+json": {
              "type": "string"
            }
          },
          "metadata": {},
          "execution_count": 38
        }
      ]
    },
    {
      "cell_type": "code",
      "source": [
        "# 3) Implement a Python function that takes a list of integers and returns a new list containing the squares of each number.\n",
        "numbers = [1, 2, 3, 4, 5]\n",
        "def square_numbers(numbers):\n",
        "  \"\"\"\n",
        "  This function takes a list of integers and returns a new list containing the squares of each number.\n",
        "  \"\"\"\n",
        "  squared_numbers = [num ** 2 for num in numbers]\n",
        "  return squared_numbers\n",
        "\n",
        "square_numbers(numbers)  # output: [1, 4, 9, 16, 25]\n"
      ],
      "metadata": {
        "colab": {
          "base_uri": "https://localhost:8080/"
        },
        "id": "bdP1OAok1Jhm",
        "outputId": "9e4990fa-6751-44c4-f35c-e0756b8a29ed"
      },
      "execution_count": null,
      "outputs": [
        {
          "output_type": "execute_result",
          "data": {
            "text/plain": [
              "[1, 4, 9, 16, 25]"
            ]
          },
          "metadata": {},
          "execution_count": 39
        }
      ]
    },
    {
      "cell_type": "code",
      "source": [
        "# 4) Write a Python function that checks if a given number is prime or not from 1 to 200.\n",
        "\n",
        "def is_prime(number):\n",
        "  \"\"\"\n",
        "  This function checks if a given number is prime or not.\n",
        "  \"\"\"\n",
        "  if number <= 1:\n",
        "    return False\n",
        "  if number <= 3:\n",
        "    return True\n",
        "  if number % 2 == 0 or number % 3 == 0:\n",
        "    return False\n",
        "  i = 5\n",
        "  while i * i <= number:\n",
        "    if number % i == 0 or number % (i + 2) == 0:\n",
        "      return False\n",
        "    i += 6\n",
        "  return True\n",
        "\n",
        "# Check prime numbers from 1 to 200\n",
        "for num in range(1, 201):\n",
        "  if is_prime(num):\n",
        "    print(f\"{num} is a prime number.\")"
      ],
      "metadata": {
        "colab": {
          "base_uri": "https://localhost:8080/"
        },
        "id": "oQqiLqgB3GC_",
        "outputId": "f333f0bc-5cf5-413e-943a-6fc858a8cc70"
      },
      "execution_count": null,
      "outputs": [
        {
          "output_type": "stream",
          "name": "stdout",
          "text": [
            "2 is a prime number.\n",
            "3 is a prime number.\n",
            "5 is a prime number.\n",
            "7 is a prime number.\n",
            "11 is a prime number.\n",
            "13 is a prime number.\n",
            "17 is a prime number.\n",
            "19 is a prime number.\n",
            "23 is a prime number.\n",
            "29 is a prime number.\n",
            "31 is a prime number.\n",
            "37 is a prime number.\n",
            "41 is a prime number.\n",
            "43 is a prime number.\n",
            "47 is a prime number.\n",
            "53 is a prime number.\n",
            "59 is a prime number.\n",
            "61 is a prime number.\n",
            "67 is a prime number.\n",
            "71 is a prime number.\n",
            "73 is a prime number.\n",
            "79 is a prime number.\n",
            "83 is a prime number.\n",
            "89 is a prime number.\n",
            "97 is a prime number.\n",
            "101 is a prime number.\n",
            "103 is a prime number.\n",
            "107 is a prime number.\n",
            "109 is a prime number.\n",
            "113 is a prime number.\n",
            "127 is a prime number.\n",
            "131 is a prime number.\n",
            "137 is a prime number.\n",
            "139 is a prime number.\n",
            "149 is a prime number.\n",
            "151 is a prime number.\n",
            "157 is a prime number.\n",
            "163 is a prime number.\n",
            "167 is a prime number.\n",
            "173 is a prime number.\n",
            "179 is a prime number.\n",
            "181 is a prime number.\n",
            "191 is a prime number.\n",
            "193 is a prime number.\n",
            "197 is a prime number.\n",
            "199 is a prime number.\n"
          ]
        }
      ]
    },
    {
      "cell_type": "code",
      "source": [
        "# 5) Create an iterator class in Python that generates the Fibonacci sequence up to a specified number of terms.\n",
        "\n",
        "def fib(n):\n",
        "    a = 0\n",
        "    b = 1\n",
        "    for i in range(n):\n",
        "        yield a\n",
        "        a, b = b, a+b\n",
        "\n",
        "for i in fib(15):\n",
        "    print(i)\n"
      ],
      "metadata": {
        "colab": {
          "base_uri": "https://localhost:8080/"
        },
        "id": "0BOIbKTx3hl2",
        "outputId": "5354d9e8-5a61-411d-ca7d-e5d634232ea2"
      },
      "execution_count": null,
      "outputs": [
        {
          "output_type": "stream",
          "name": "stdout",
          "text": [
            "0\n",
            "1\n",
            "1\n",
            "2\n",
            "3\n",
            "5\n",
            "8\n",
            "13\n",
            "21\n",
            "34\n",
            "55\n",
            "89\n",
            "144\n",
            "233\n",
            "377\n"
          ]
        }
      ]
    },
    {
      "cell_type": "code",
      "source": [
        "# 6) Write a generator function in Python that yields the powers of 2 up to a given exponent.\n",
        "exponent = 4\n",
        "def powers_of_two(exponent):\n",
        "  \"\"\"\n",
        "  This generator function yields the powers of 2 up to a given exponent.\n",
        "  \"\"\"\n",
        "  for i in range(exponent + 1):\n",
        "    yield 2 ** i\n",
        "\n",
        "for power in powers_of_two(exponent):\n",
        "  print(power)\n"
      ],
      "metadata": {
        "id": "rHBWtho938i0",
        "colab": {
          "base_uri": "https://localhost:8080/"
        },
        "outputId": "0342bc87-a3ed-40cd-f396-117b1686eedf"
      },
      "execution_count": null,
      "outputs": [
        {
          "output_type": "stream",
          "name": "stdout",
          "text": [
            "1\n",
            "2\n",
            "4\n",
            "8\n",
            "16\n"
          ]
        }
      ]
    },
    {
      "cell_type": "code",
      "source": [
        "# 8) Use a lambda function in Python to sort a list of tuples based on the second element of each tuple.\n",
        "\n",
        "data = [('apple', 3), ('banana', 1), ('cherry', 2)]\n",
        "\n",
        "sorted_data = sorted(data, key=lambda x: x[1])\n",
        "print(sorted_data)\n"
      ],
      "metadata": {
        "colab": {
          "base_uri": "https://localhost:8080/"
        },
        "id": "_2Vd1VH4uTGJ",
        "outputId": "7e79ad86-dc30-4c60-d288-1ae72d23c251"
      },
      "execution_count": null,
      "outputs": [
        {
          "output_type": "stream",
          "name": "stdout",
          "text": [
            "[('banana', 1), ('cherry', 2), ('apple', 3)]\n"
          ]
        }
      ]
    },
    {
      "cell_type": "code",
      "source": [
        "# 9) Write a Python program that uses `map()` to convert a list of temperatures from Celsius to Fahrenheit.\n",
        "\n",
        "celsius_temps = [0, 10, 20, 30, 40]\n",
        "\n",
        "def celsius_to_fahrenheit(celsius):\n",
        "  \"\"\"Converts Celsius to Fahrenheit.\"\"\"\n",
        "  return (celsius * 9/5) + 32\n",
        "\n",
        "fahrenheit_temps = list(map(celsius_to_fahrenheit, celsius_temps))\n",
        "print(fahrenheit_temps)\n"
      ],
      "metadata": {
        "colab": {
          "base_uri": "https://localhost:8080/"
        },
        "id": "5A2sp9r3ujC8",
        "outputId": "134ce0ca-f6a0-446b-9e72-65ec2df6ddaa"
      },
      "execution_count": null,
      "outputs": [
        {
          "output_type": "stream",
          "name": "stdout",
          "text": [
            "[32.0, 50.0, 68.0, 86.0, 104.0]\n"
          ]
        }
      ]
    },
    {
      "cell_type": "code",
      "source": [
        "# 10) Create a Python program that uses `filter()` to remove all the vowels from a given string.\n",
        "\n",
        "def remove_vowels(text):\n",
        "  \"\"\"Removes all vowels from a given string.\"\"\"\n",
        "  vowels = \"aeiouAEIOU\"\n",
        "  return \"\".join(filter(lambda char: char not in vowels, text))\n",
        "\n",
        "# Example usage\n",
        "text = \"Hello, World!\"\n",
        "result = remove_vowels(text)\n",
        "print(result)  # Output: Hll, Wrld!\n"
      ],
      "metadata": {
        "colab": {
          "base_uri": "https://localhost:8080/"
        },
        "id": "i3Ux-GVyusj9",
        "outputId": "be8eb9a7-8abc-403f-fd5d-60f1ead3596b"
      },
      "execution_count": null,
      "outputs": [
        {
          "output_type": "stream",
          "name": "stdout",
          "text": [
            "Hll, Wrld!\n"
          ]
        }
      ]
    },
    {
      "cell_type": "code",
      "source": [
        "# 11) Write a Python program, which returns a list with 2-tuples. Each tuple consists of the order number and the\n",
        "# product of the price per item and the quantity. The product should be increased by 10,- € if the value of the\n",
        "# order is smaller than 100,00 €.\n",
        "# Write a Python program using lambda and map\n",
        "\n",
        "from functools import reduce\n",
        "\n",
        "def calculate_order_values(orders):\n",
        "  \"\"\"\n",
        "  This function returns a list with 2-tuples.\n",
        "  Each tuple consists of the order number and the\n",
        "  product of the price per item and the quantity.\n",
        "  The product should be increased by 10,- € if the value of the\n",
        "  order is smaller than 10000 €.\n",
        "  \"\"\"\n",
        "  result = []\n",
        "  for order in orders:\n",
        "    order_number = order[0]\n",
        "    price_per_item = order[1]\n",
        "    quantity = order[2]\n",
        "    total_value = price_per_item * quantity\n",
        "    if total_value < 100:\n",
        "      total_value += 10\n",
        "    result.append((order_number, total_value))\n",
        "  return result\n",
        "\n",
        "# Example usage\n",
        "orders = [\n",
        "    (34587, 40.95, 4),\n",
        "    (98762, 56.80, 5),\n",
        "    (77226, 32.95, 3),\n",
        "    (88112, 24.99, 3),\n",
        "]\n",
        "\n",
        "order_values = calculate_order_values(orders)\n",
        "print(order_values)\n",
        "\n",
        "# Using lambda and map\n",
        "orders = [\n",
        "    (34587, 40.95, 4),\n",
        "    (98762, 56.80, 5),\n",
        "    (77226, 32.95, 3),\n",
        "    (88112, 24.99, 3),\n",
        "]\n",
        "\n",
        "calculate_order_value = lambda order: (order[0], order[1] * order[2] + (10 if order[1] * order[2] < 100 else 0))\n",
        "order_values = list(map(calculate_order_value, orders))\n",
        "print(order_values)\n"
      ],
      "metadata": {
        "colab": {
          "base_uri": "https://localhost:8080/"
        },
        "id": "g1RHrcQmu7iM",
        "outputId": "779afa30-3223-41f1-82ed-3c3a77227d7c"
      },
      "execution_count": null,
      "outputs": [
        {
          "output_type": "stream",
          "name": "stdout",
          "text": [
            "[(34587, 163.8), (98762, 284.0), (77226, 108.85000000000001), (88112, 84.97)]\n",
            "[(34587, 163.8), (98762, 284.0), (77226, 108.85000000000001), (88112, 84.97)]\n"
          ]
        }
      ]
    },
    {
      "cell_type": "code",
      "source": [],
      "metadata": {
        "id": "86GK-wNsvzpx"
      },
      "execution_count": null,
      "outputs": []
    }
  ]
}